{
 "cells": [
  {
   "cell_type": "code",
   "execution_count": 1,
   "id": "24932264-0d7b-4259-8f9b-640f96998c98",
   "metadata": {},
   "outputs": [
    {
     "data": {
      "text/plain": [
       "'/home/jovyan/ArditArifi'"
      ]
     },
     "execution_count": 1,
     "metadata": {},
     "output_type": "execute_result"
    }
   ],
   "source": [
    "import os\n",
    "os.getcwd()"
   ]
  },
  {
   "cell_type": "code",
   "execution_count": 2,
   "id": "4ffbd168-abf2-4edb-be2a-d9ef0a4ce8e4",
   "metadata": {},
   "outputs": [],
   "source": [
    "source_path=\"/home/jovyan/prepared-data/POLAR_EMISS_DATA/CMIP6\"\n",
    "output_path=\"/home/jovyan/student-storages/GROUP3/ArditArifi/output\"\n",
    "\n",
    "! mkdir -p output_path"
   ]
  },
  {
   "cell_type": "markdown",
   "id": "69c85f27-ff25-42a2-9ca0-bb121df590fe",
   "metadata": {},
   "source": [
    "Analysis"
   ]
  },
  {
   "cell_type": "code",
   "execution_count": 3,
   "id": "7e67ddf2-f292-4d0b-9b98-083d8091e636",
   "metadata": {},
   "outputs": [],
   "source": [
    "import glob\n",
    "# ANALYSIS\n",
    "import xarray as xr\n",
    "import numpy as np\n",
    "# PLOTTING\n",
    "import matplotlib.pyplot as plt\n",
    "import cartopy.crs as ccrs\n",
    "import matplotlib.colors as colors\n"
   ]
  },
  {
   "cell_type": "code",
   "execution_count": null,
   "id": "00af2df6-81a5-404d-8cd4-0bba6bd6899a",
   "metadata": {},
   "outputs": [],
   "source": [
    "# Load data\n",
    "piClim_2xss = xr.open_mfdataset(f\"{source_path}/rtmt*{model}*piClim-2xss*.nc\", combine=\"by_coords\")\n",
    "piClim_2xss = xr.open_mfdataset(f\"{source_path}/rtmt*{model}*piClim-2xss*.nc\", combine=\"by_coords\")\n",
    "piClim_control = xr.open_mfdataset(f\"{source_path}/rtmt*{model}*piClim-control*.nc\", combine=\"by_coords\")"
   ]
  }
 ],
 "metadata": {
  "kernelspec": {
   "display_name": "Python 3 (ipykernel)",
   "language": "python",
   "name": "python3"
  },
  "language_info": {
   "codemirror_mode": {
    "name": "ipython",
    "version": 3
   },
   "file_extension": ".py",
   "mimetype": "text/x-python",
   "name": "python",
   "nbconvert_exporter": "python",
   "pygments_lexer": "ipython3",
   "version": "3.12.8"
  }
 },
 "nbformat": 4,
 "nbformat_minor": 5
}
