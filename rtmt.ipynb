{
 "cells": [
  {
   "cell_type": "code",
   "execution_count": 1,
   "id": "24932264-0d7b-4259-8f9b-640f96998c98",
   "metadata": {},
   "outputs": [
    {
     "data": {
      "text/plain": [
       "'/home/jovyan/ArditArifi'"
      ]
     },
     "execution_count": 1,
     "metadata": {},
     "output_type": "execute_result"
    }
   ],
   "source": [
    "import os\n",
    "os.getcwd()"
   ]
  },
  {
   "cell_type": "code",
   "execution_count": 20,
   "id": "4ffbd168-abf2-4edb-be2a-d9ef0a4ce8e4",
   "metadata": {},
   "outputs": [],
   "source": [
    "source_path=\"/home/jovyan/prepared-data/POLAR_EMISS_DATA/CMIP6\"\n",
    "output_path=\"/home/jovyan/student-storages/GROUP3/ArditArifi/output\"\n",
    "\n",
    "! mkdir -p output_path"
   ]
  },
  {
   "cell_type": "markdown",
   "id": "69c85f27-ff25-42a2-9ca0-bb121df590fe",
   "metadata": {},
   "source": [
    "Analysis"
   ]
  },
  {
   "cell_type": "code",
   "execution_count": 3,
   "id": "7e67ddf2-f292-4d0b-9b98-083d8091e636",
   "metadata": {},
   "outputs": [],
   "source": [
    "import glob\n",
    "# ANALYSIS\n",
    "import xarray as xr\n",
    "import pandas as p\n",
    "import numpy as np\n",
    "# PLOTTING\n",
    "import matplotlib.pyplot as plt\n",
    "import cartopy.crs as ccrs\n",
    "import matplotlib.colors as colors\n"
   ]
  },
  {
   "cell_type": "code",
   "execution_count": 21,
   "id": "488b9fc7-8c70-4e2d-bcb1-5f91020363a7",
   "metadata": {},
   "outputs": [],
   "source": [
    "\n",
    "# REGIONS\n",
    "region_label = [\"ARC\", \"ANT\"]\n",
    "arctic_lat = [60, 90]\n",
    "antarctic_lat = [-90, -60]\n",
    "\n",
    "# SEASONS\n",
    "seasons_label = [\"DJF\", \"MAM\", \"JJA\", \"SON\"]\n",
    "seasons = {\n",
    "    \"DJF\": [12, 1, 2],   # Dec, Jan, Feb\n",
    "    \"MAM\": [3, 4, 5],    # Mar, Apr, May\n",
    "    \"JJA\": [6, 7, 8],    # Jun, Jul, Aug\n",
    "    \"SON\": [9, 10, 11],  # Sep, Oct, Nov\n",
    "}\n",
    "\n",
    "# Create combined region-season labels\n",
    "region_season_label = [f\"{region} {season}\" for region in region_label for season in seasons_label]\n",
    "\n",
    "# EXPERIMENTS\n",
    "experiments = [\"control\", \"2xss\", \"2xdust\", \"2xfire\", \"2xDMS\"]\n",
    "\n",
    "# MODELS\n",
    "models = [\"IPSL-CM6A-LR-INCA\", \"UKESM1-0-LL\", \"NorESM2-LM\"]\n",
    "\n",
    "# PATTERN FUNCTION\n",
    "patter = lambda model, var, exp: f\"{source_path}/{var}*{model}*piClim-{exp}*.nc\""
   ]
  },
  {
   "cell_type": "code",
   "execution_count": 23,
   "id": "59c15a9b-1c36-4a79-91bc-1fe32c303dc7",
   "metadata": {},
   "outputs": [
    {
     "ename": "NameError",
     "evalue": "name 'ds_period' is not defined",
     "output_type": "error",
     "traceback": [
      "\u001b[0;31m---------------------------------------------------------------------------\u001b[0m",
      "\u001b[0;31mNameError\u001b[0m                                 Traceback (most recent call last)",
      "Cell \u001b[0;32mIn[23], line 25\u001b[0m\n\u001b[1;32m     22\u001b[0m     \u001b[38;5;28;01mcontinue\u001b[39;00m\n\u001b[1;32m     24\u001b[0m \u001b[38;5;66;03m# 2) Select months for this season\u001b[39;00m\n\u001b[0;32m---> 25\u001b[0m ds_season \u001b[38;5;241m=\u001b[39m \u001b[43mds_period\u001b[49m\u001b[38;5;241m.\u001b[39msel(time\u001b[38;5;241m=\u001b[39mds_period\u001b[38;5;241m.\u001b[39mtime\u001b[38;5;241m.\u001b[39mdt\u001b[38;5;241m.\u001b[39mmonth\u001b[38;5;241m.\u001b[39misin(seasons[season]))\n\u001b[1;32m     27\u001b[0m \u001b[38;5;66;03m# ---------------------\u001b[39;00m\n\u001b[1;32m     28\u001b[0m \u001b[38;5;66;03m# ARCTIC\u001b[39;00m\n\u001b[1;32m     29\u001b[0m \u001b[38;5;66;03m# ---------------------\u001b[39;00m\n\u001b[1;32m     30\u001b[0m ds_season_arctic \u001b[38;5;241m=\u001b[39m ds_season\u001b[38;5;241m.\u001b[39msel(\n\u001b[1;32m     31\u001b[0m     lat\u001b[38;5;241m=\u001b[39m\u001b[38;5;28mslice\u001b[39m(arctic_lat[\u001b[38;5;241m0\u001b[39m], arctic_lat[\u001b[38;5;241m1\u001b[39m]),\n\u001b[1;32m     32\u001b[0m     lon\u001b[38;5;241m=\u001b[39m\u001b[38;5;28mslice\u001b[39m(\u001b[38;5;241m-\u001b[39m\u001b[38;5;241m180\u001b[39m, \u001b[38;5;241m180\u001b[39m)\n\u001b[1;32m     33\u001b[0m )\n",
      "\u001b[0;31mNameError\u001b[0m: name 'ds_period' is not defined"
     ]
    }
   ],
   "source": [
    "# CONSTRUCT TABLE\n",
    "mean_values = np.zeros(shape=(len(region_season_label), len(experiments), len(models)))\n",
    "\n",
    "# LOAD DATA\n",
    "model = \"\"\n",
    "var = \"rtmt\"\n",
    "\n",
    "# MAIN LOOP\n",
    "for idx_model, model in enumerate(models):\n",
    "    for idx_exp, exp in enumerate(experiments):\n",
    "        for idx_season, season in enumerate(seasons_label):\n",
    "\n",
    "            # 1) Load dataset for this model/var/exp\n",
    "            try:\n",
    "                # Attempt to open the dataset\n",
    "                ds = xr.open_mfdataset(patter(model, var, exp), combine=\"by_coords\")\n",
    "            except Exception as e:\n",
    "                # If there's an error reading files, set to 0 for ARC and ANT\n",
    "                print(f\"Error opening files {patter(model, var, exp)}: {e}\")\n",
    "                mean_values[idx_season, idx_exp, idx_model] = 0\n",
    "                mean_values[idx_season + 4, idx_exp, idx_model] = 0\n",
    "                continue\n",
    "                \n",
    "\n",
    "            # 2) Select months for this season\n",
    "            ds_season = ds_period.sel(time=ds_period.time.dt.month.isin(seasons[season]))\n",
    "\n",
    "            # ---------------------\n",
    "            # ARCTIC\n",
    "            # ---------------------\n",
    "            ds_season_arctic = ds_season.sel(\n",
    "                lat=slice(arctic_lat[0], arctic_lat[1]),\n",
    "                lon=slice(-180, 180)\n",
    "            )\n",
    "            weights_arctic = np.cos(np.deg2rad(ds_season_arctic.lat))\n",
    "\n",
    "            # Weighted mean over lat/lon => time series\n",
    "            ds_season_arctic_area_ts = ds_season_arctic[var].weighted(weights_arctic).mean(dim=(\"lat\", \"lon\"))\n",
    "\n",
    "            # Multi-year average (time)\n",
    "            arc_value = ds_season_arctic_area_ts.mean(\"time\").values\n",
    "            # e.g. store in row idx_season for ARC\n",
    "            mean_values[idx_season, idx_exp, idx_model] = arc_value\n",
    "\n",
    "            # ---------------------\n",
    "            # ANTARCTIC\n",
    "            # ---------------------\n",
    "            ds_season_antarctic = ds_season.sel(\n",
    "                lat=slice(antarctic_lat[0], antarctic_lat[1]),\n",
    "                lon=slice(-180, 180)\n",
    "            )\n",
    "            weights_antarctic = np.cos(np.deg2rad(ds_season_antarctic.lat))\n",
    "\n",
    "            ds_season_antarctic_area_ts = ds_season_antarctic[var].weighted(weights_antarctic).mean(dim=(\"lat\",\"lon\"))\n",
    "            ant_value = ds_season_antarctic_area_ts.mean(\"time\").values\n",
    "            # store in row idx_season+4 for ANT\n",
    "            mean_values[idx_season + 4, idx_exp, idx_model] = ant_value\n",
    "\n",
    "# Finally, display the populated array\n",
    "print(\"Shape of mean_values:\", mean_values.shape)\n",
    "print(mean_values)"
   ]
  },
  {
   "cell_type": "code",
   "execution_count": null,
   "id": "239a15d9-57b5-470b-98f9-d5345c863255",
   "metadata": {},
   "outputs": [],
   "source": []
  }
 ],
 "metadata": {
  "kernelspec": {
   "display_name": "Python 3 (ipykernel)",
   "language": "python",
   "name": "python3"
  },
  "language_info": {
   "codemirror_mode": {
    "name": "ipython",
    "version": 3
   },
   "file_extension": ".py",
   "mimetype": "text/x-python",
   "name": "python",
   "nbconvert_exporter": "python",
   "pygments_lexer": "ipython3",
   "version": "3.12.8"
  }
 },
 "nbformat": 4,
 "nbformat_minor": 5
}
