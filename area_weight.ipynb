{
 "cells": [
  {
   "cell_type": "code",
   "execution_count": 5,
   "id": "c37f7c76-6da3-4960-bbb3-e540a24d6272",
   "metadata": {},
   "outputs": [],
   "source": [
    "import area_weight\n",
    "import numpy as np\n",
    "import xarray as xr"
   ]
  },
  {
   "cell_type": "code",
   "execution_count": 6,
   "id": "338de530-11ad-4a4d-bbe1-11e7be41a1c0",
   "metadata": {},
   "outputs": [],
   "source": [
    "# Example resolution\n",
    "lat_res = 1.0  # 1 degree\n",
    "lon_res = 2.0  # 2 degrees\n",
    "\n",
    "# Create 1D latitude and longitude arrays\n",
    "lats = np.arange(-90, 90+lat_res, lat_res)\n",
    "lons = np.arange(-180, 180+lon_res, lon_res)\n",
    "\n",
    "# Create a dummy DataArray (just to illustrate xarray usage)\n",
    "ds = xr.DataArray(\n",
    "    data=np.random.rand(len(lats), len(lons)),\n",
    "    dims=('lat', 'lon'),\n",
    "    coords={'lat': lats, 'lon': lons},\n",
    "    name='dummy_data'\n",
    ")\n",
    "\n",
    "# Slice Arctic region: lat from 60 to 90\n",
    "ds_arctic = ds.sel(lat=slice(60, 90))\n",
    "\n",
    "# Extract the lat/lon arrays we will work with\n",
    "lat_arctic = ds_arctic.lat.values\n",
    "lon_arctic = ds_arctic.lon.values\n"
   ]
  },
  {
   "cell_type": "code",
   "execution_count": 12,
   "id": "07ce6bb7-cf9f-4d2f-b14a-08cc867b8cd1",
   "metadata": {},
   "outputs": [],
   "source": [
    "##############################################################################\n",
    "# 3) Compute area weights using three methods\n",
    "##############################################################################\n",
    "\n",
    "# Put them into DataArrays for convenience\n",
    "w_hav_da = area_weight.get_weights( area_weight.area_weight_haversine, lat_arctic, lon_arctic )\n",
    "\n",
    "w_cos_da = area_weight.get_weights( area_weight.area_weight_cosine, lat_arctic, lon_arctic )\n",
    "\n",
    "w_r_da = area_weight.get_weights( area_weight.area_weight_r_sinlat, lat_arctic, lon_arctic )\n"
   ]
  },
  {
   "cell_type": "code",
   "execution_count": 13,
   "id": "3896c806-fc5e-46a1-8b94-40d6cad2005d",
   "metadata": {},
   "outputs": [
    {
     "name": "stdout",
     "output_type": "stream",
     "text": [
      "Haversine-based weights:\n",
      "<xarray.DataArray 'weight' (lat: 31, lon: 181)> Size: 45kB\n",
      "array([[1.        , 1.        , 1.        , ..., 1.        , 1.        ,\n",
      "        0.        ],\n",
      "       [0.9696185 , 0.9696185 , 0.9696185 , ..., 0.9696185 , 0.9696185 ,\n",
      "        0.        ],\n",
      "       [0.93894171, 0.93894171, 0.93894171, ..., 0.93894171, 0.93894171,\n",
      "        0.        ],\n",
      "       ...,\n",
      "       [0.06979811, 0.06979811, 0.06979811, ..., 0.06979811, 0.06979811,\n",
      "        0.        ],\n",
      "       [0.03490437, 0.03490437, 0.03490437, ..., 0.03490437, 0.03490437,\n",
      "        0.        ],\n",
      "       [0.03490437, 0.03490437, 0.03490437, ..., 0.03490437, 0.03490437,\n",
      "        0.03490437]])\n",
      "Coordinates:\n",
      "  * lat      (lat) float64 248B 60.0 61.0 62.0 63.0 64.0 ... 87.0 88.0 89.0 90.0\n",
      "  * lon      (lon) float64 1kB -180.0 -178.0 -176.0 -174.0 ... 176.0 178.0 180.0\n",
      "\n",
      "Cosine-based weights:\n",
      "<xarray.DataArray 'weight' (lat: 31, lon: 181)> Size: 45kB\n",
      "array([[5.00000000e-01, 5.00000000e-01, 5.00000000e-01, ...,\n",
      "        5.00000000e-01, 5.00000000e-01, 5.00000000e-01],\n",
      "       [4.84809620e-01, 4.84809620e-01, 4.84809620e-01, ...,\n",
      "        4.84809620e-01, 4.84809620e-01, 4.84809620e-01],\n",
      "       [4.69471563e-01, 4.69471563e-01, 4.69471563e-01, ...,\n",
      "        4.69471563e-01, 4.69471563e-01, 4.69471563e-01],\n",
      "       ...,\n",
      "       [3.48994967e-02, 3.48994967e-02, 3.48994967e-02, ...,\n",
      "        3.48994967e-02, 3.48994967e-02, 3.48994967e-02],\n",
      "       [1.74524064e-02, 1.74524064e-02, 1.74524064e-02, ...,\n",
      "        1.74524064e-02, 1.74524064e-02, 1.74524064e-02],\n",
      "       [6.12323400e-17, 6.12323400e-17, 6.12323400e-17, ...,\n",
      "        6.12323400e-17, 6.12323400e-17, 6.12323400e-17]])\n",
      "Coordinates:\n",
      "  * lat      (lat) float64 248B 60.0 61.0 62.0 63.0 64.0 ... 87.0 88.0 89.0 90.0\n",
      "  * lon      (lon) float64 1kB -180.0 -178.0 -176.0 -174.0 ... 176.0 178.0 180.0\n",
      "\n",
      "r^2 * delta(sin(lat)) * delta(lon) based weights:\n",
      "<xarray.DataArray 'weight' (lat: 31, lon: 181)> Size: 45kB\n",
      "array([[1.21768022e+10, 1.21768022e+10, 1.21768022e+10, ...,\n",
      "        1.21768022e+10, 1.21768022e+10, 0.00000000e+00],\n",
      "       [1.17993295e+10, 1.17993295e+10, 1.17993295e+10, ...,\n",
      "        1.17993295e+10, 1.17993295e+10, 0.00000000e+00],\n",
      "       [1.14182626e+10, 1.14182626e+10, 1.14182626e+10, ...,\n",
      "        1.14182626e+10, 1.14182626e+10, 0.00000000e+00],\n",
      "       ...,\n",
      "       [6.47311681e+08, 6.47311681e+08, 6.47311681e+08, ...,\n",
      "        6.47311681e+08, 6.47311681e+08, 0.00000000e+00],\n",
      "       [2.15792471e+08, 2.15792471e+08, 2.15792471e+08, ...,\n",
      "        2.15792471e+08, 2.15792471e+08, 0.00000000e+00],\n",
      "       [0.00000000e+00, 0.00000000e+00, 0.00000000e+00, ...,\n",
      "        0.00000000e+00, 0.00000000e+00, 0.00000000e+00]])\n",
      "Coordinates:\n",
      "  * lat      (lat) float64 248B 60.0 61.0 62.0 63.0 64.0 ... 87.0 88.0 89.0 90.0\n",
      "  * lon      (lon) float64 1kB -180.0 -178.0 -176.0 -174.0 ... 176.0 178.0 180.0\n"
     ]
    }
   ],
   "source": [
    "\n",
    "##############################################################################\n",
    "# 4) Compare/inspect results\n",
    "##############################################################################\n",
    "# Example: Print some statistics or differences\n",
    "print(\"Haversine-based weights:\")\n",
    "print(w_hav_da)\n",
    "\n",
    "print(\"\\nCosine-based weights:\")\n",
    "print(w_cos_da)\n",
    "\n",
    "print(\"\\nr^2 * delta(sin(lat)) * delta(lon) based weights:\")\n",
    "print(w_r_da)\n",
    "\n",
    "\n",
    "# Optionally, you could plot them (requires matplotlib):\n",
    "# diff_hav_cos.plot(x='lon', y='lat', robust=True)\n",
    "# plt.show()\n",
    "\n"
   ]
  },
  {
   "cell_type": "code",
   "execution_count": null,
   "id": "0ffe4c92-2560-4c40-b6e4-669071e046af",
   "metadata": {},
   "outputs": [],
   "source": []
  }
 ],
 "metadata": {
  "kernelspec": {
   "display_name": "Python 3 (ipykernel)",
   "language": "python",
   "name": "python3"
  },
  "language_info": {
   "codemirror_mode": {
    "name": "ipython",
    "version": 3
   },
   "file_extension": ".py",
   "mimetype": "text/x-python",
   "name": "python",
   "nbconvert_exporter": "python",
   "pygments_lexer": "ipython3",
   "version": "3.12.8"
  }
 },
 "nbformat": 4,
 "nbformat_minor": 5
}
